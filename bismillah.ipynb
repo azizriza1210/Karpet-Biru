{
 "cells": [
  {
   "cell_type": "code",
   "execution_count": 1,
   "metadata": {},
   "outputs": [
    {
     "name": "stdout",
     "output_type": "stream",
     "text": [
      "Downloading data-analytics-competition-find-it-2024.zip to e:\\Python\\Road to UGM\\Karpet Biru\n",
      "\n"
     ]
    },
    {
     "name": "stderr",
     "output_type": "stream",
     "text": [
      "\n",
      "  0%|          | 0.00/240k [00:00<?, ?B/s]\n",
      "100%|██████████| 240k/240k [00:00<00:00, 291kB/s]\n",
      "100%|██████████| 240k/240k [00:00<00:00, 290kB/s]\n"
     ]
    }
   ],
   "source": [
    "!kaggle competitions download -c data-analytics-competition-find-it-2024"
   ]
  },
  {
   "cell_type": "code",
   "execution_count": 2,
   "metadata": {},
   "outputs": [],
   "source": [
    "#import zipfile module\n",
    "from zipfile import ZipFile\n",
    "\n",
    "with ZipFile('data-analytics-competition-find-it-2024.zip', 'r') as f:\n",
    "    #extract in current directory\n",
    "    f.extractall()"
   ]
  }
 ],
 "metadata": {
  "kernelspec": {
   "display_name": "Python 3",
   "language": "python",
   "name": "python3"
  },
  "language_info": {
   "codemirror_mode": {
    "name": "ipython",
    "version": 3
   },
   "file_extension": ".py",
   "mimetype": "text/x-python",
   "name": "python",
   "nbconvert_exporter": "python",
   "pygments_lexer": "ipython3",
   "version": "3.10.0"
  }
 },
 "nbformat": 4,
 "nbformat_minor": 2
}
